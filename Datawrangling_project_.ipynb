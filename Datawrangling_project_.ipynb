{
 "cells": [
  {
   "cell_type": "code",
   "execution_count": 50,
   "id": "198899e3",
   "metadata": {},
   "outputs": [],
   "source": [
    "import xml.etree.ElementTree as ET"
   ]
  },
  {
   "cell_type": "code",
   "execution_count": 51,
   "id": "711db672",
   "metadata": {},
   "outputs": [],
   "source": [
    "import pandas as pd"
   ]
  },
  {
   "cell_type": "code",
   "execution_count": 52,
   "id": "1a0bd943",
   "metadata": {},
   "outputs": [],
   "source": [
    "tree=ET.parse('bankrupt_cases.xml')"
   ]
  },
  {
   "cell_type": "code",
   "execution_count": 53,
   "id": "72d4f07a",
   "metadata": {},
   "outputs": [],
   "source": [
    "root=tree.getroot() # 최상위태그 파싱"
   ]
  },
  {
   "cell_type": "code",
   "execution_count": 54,
   "id": "e80b79b4",
   "metadata": {},
   "outputs": [
    {
     "name": "stdout",
     "output_type": "stream",
     "text": [
      "{'millions'}\n",
      "{'millions'}\n"
     ]
    }
   ],
   "source": [
    "# 단위를 입력받아서 무슨 단위가 있는지 확인\n",
    "\n",
    "a_units=[] # asset 단위\n",
    "l_units=[] # liabilities 단위\n",
    "for x in root:\n",
    "    a_units.append(x.find('assets').attrib['unit'])\n",
    "    l_units.append(x.find('liabilities').attrib['unit'])\n",
    "\n",
    "a_unitset=set(a_units)\n",
    "l_unitset=set(l_units)\n",
    "print(a_unitset)\n",
    "print(l_unitset)\n",
    "# 결과 : assets과 liaibilites 단위는 million밖에 없음"
   ]
  },
  {
   "cell_type": "code",
   "execution_count": 55,
   "id": "d574a41d",
   "metadata": {},
   "outputs": [
    {
     "data": {
      "text/html": [
       "<div>\n",
       "<style scoped>\n",
       "    .dataframe tbody tr th:only-of-type {\n",
       "        vertical-align: middle;\n",
       "    }\n",
       "\n",
       "    .dataframe tbody tr th {\n",
       "        vertical-align: top;\n",
       "    }\n",
       "\n",
       "    .dataframe thead th {\n",
       "        text-align: right;\n",
       "    }\n",
       "</style>\n",
       "<table border=\"1\" class=\"dataframe\">\n",
       "  <thead>\n",
       "    <tr style=\"text-align: right;\">\n",
       "      <th></th>\n",
       "      <th>district</th>\n",
       "      <th>state</th>\n",
       "      <th>company_name</th>\n",
       "      <th>assets</th>\n",
       "      <th>assets unit</th>\n",
       "      <th>liabilities</th>\n",
       "      <th>liabilities unit</th>\n",
       "    </tr>\n",
       "  </thead>\n",
       "  <tbody>\n",
       "    <tr>\n",
       "      <th>0</th>\n",
       "      <td>D</td>\n",
       "      <td>NV</td>\n",
       "      <td>Ad Systems Communications, Inc.</td>\n",
       "      <td>404.586</td>\n",
       "      <td>millions</td>\n",
       "      <td>3.772</td>\n",
       "      <td>millions</td>\n",
       "    </tr>\n",
       "    <tr>\n",
       "      <th>1</th>\n",
       "      <td>D</td>\n",
       "      <td>NV</td>\n",
       "      <td>Alphatrade.com</td>\n",
       "      <td>685.694</td>\n",
       "      <td>millions</td>\n",
       "      <td>3.684</td>\n",
       "      <td>millions</td>\n",
       "    </tr>\n",
       "    <tr>\n",
       "      <th>2</th>\n",
       "      <td>SD</td>\n",
       "      <td>NY</td>\n",
       "      <td>AMBAC Financial Group</td>\n",
       "      <td>394.500</td>\n",
       "      <td>millions</td>\n",
       "      <td>1682.600</td>\n",
       "      <td>millions</td>\n",
       "    </tr>\n",
       "    <tr>\n",
       "      <th>3</th>\n",
       "      <td>D</td>\n",
       "      <td>DE</td>\n",
       "      <td>Ambassdors International , Inc.</td>\n",
       "      <td>86.441</td>\n",
       "      <td>millions</td>\n",
       "      <td>87.315</td>\n",
       "      <td>millions</td>\n",
       "    </tr>\n",
       "    <tr>\n",
       "      <th>4</th>\n",
       "      <td>D</td>\n",
       "      <td>NV</td>\n",
       "      <td>American Pacific Financial Corporation</td>\n",
       "      <td>19.175</td>\n",
       "      <td>millions</td>\n",
       "      <td>161.084</td>\n",
       "      <td>millions</td>\n",
       "    </tr>\n",
       "    <tr>\n",
       "      <th>...</th>\n",
       "      <td>...</td>\n",
       "      <td>...</td>\n",
       "      <td>...</td>\n",
       "      <td>...</td>\n",
       "      <td>...</td>\n",
       "      <td>...</td>\n",
       "      <td>...</td>\n",
       "    </tr>\n",
       "    <tr>\n",
       "      <th>57</th>\n",
       "      <td>D</td>\n",
       "      <td>DE</td>\n",
       "      <td>Trico Marine Services, Inc.</td>\n",
       "      <td>30.563</td>\n",
       "      <td>millions</td>\n",
       "      <td>353.606</td>\n",
       "      <td>millions</td>\n",
       "    </tr>\n",
       "    <tr>\n",
       "      <th>58</th>\n",
       "      <td>D</td>\n",
       "      <td>DE</td>\n",
       "      <td>Vaso Active Pharmaceuticals</td>\n",
       "      <td>645.000</td>\n",
       "      <td>millions</td>\n",
       "      <td>10.187</td>\n",
       "      <td>millions</td>\n",
       "    </tr>\n",
       "    <tr>\n",
       "      <th>59</th>\n",
       "      <td>D</td>\n",
       "      <td>NJ</td>\n",
       "      <td>Visual Management Systems</td>\n",
       "      <td>273.000</td>\n",
       "      <td>millions</td>\n",
       "      <td>12.249</td>\n",
       "      <td>millions</td>\n",
       "    </tr>\n",
       "    <tr>\n",
       "      <th>60</th>\n",
       "      <td>D</td>\n",
       "      <td>DE</td>\n",
       "      <td>Waste2Energy Holdings, Inc.</td>\n",
       "      <td>6.000</td>\n",
       "      <td>millions</td>\n",
       "      <td>17.000</td>\n",
       "      <td>millions</td>\n",
       "    </tr>\n",
       "    <tr>\n",
       "      <th>61</th>\n",
       "      <td>D</td>\n",
       "      <td>DE</td>\n",
       "      <td>Wolverine Tube Inc.</td>\n",
       "      <td>115.624</td>\n",
       "      <td>millions</td>\n",
       "      <td>237.548</td>\n",
       "      <td>millions</td>\n",
       "    </tr>\n",
       "  </tbody>\n",
       "</table>\n",
       "<p>62 rows × 7 columns</p>\n",
       "</div>"
      ],
      "text/plain": [
       "   district state                            company_name   assets  \\\n",
       "0         D    NV         Ad Systems Communications, Inc.  404.586   \n",
       "1         D    NV                          Alphatrade.com  685.694   \n",
       "2        SD    NY                   AMBAC Financial Group  394.500   \n",
       "3         D    DE         Ambassdors International , Inc.   86.441   \n",
       "4         D    NV  American Pacific Financial Corporation   19.175   \n",
       "..      ...   ...                                     ...      ...   \n",
       "57        D    DE             Trico Marine Services, Inc.   30.563   \n",
       "58        D    DE             Vaso Active Pharmaceuticals  645.000   \n",
       "59        D    NJ               Visual Management Systems  273.000   \n",
       "60        D    DE             Waste2Energy Holdings, Inc.    6.000   \n",
       "61        D    DE                     Wolverine Tube Inc.  115.624   \n",
       "\n",
       "   assets unit  liabilities liabilities unit  \n",
       "0     millions        3.772         millions  \n",
       "1     millions        3.684         millions  \n",
       "2     millions     1682.600         millions  \n",
       "3     millions       87.315         millions  \n",
       "4     millions      161.084         millions  \n",
       "..         ...          ...              ...  \n",
       "57    millions      353.606         millions  \n",
       "58    millions       10.187         millions  \n",
       "59    millions       12.249         millions  \n",
       "60    millions       17.000         millions  \n",
       "61    millions      237.548         millions  \n",
       "\n",
       "[62 rows x 7 columns]"
      ]
     },
     "execution_count": 55,
     "metadata": {},
     "output_type": "execute_result"
    }
   ],
   "source": [
    "df_cols=[\"district\",\"state\",\"company_name\",\"assets\",\"assets unit\",\"liabilities\",\"liabilities unit\"]\n",
    "\n",
    "rows=[]\n",
    "\n",
    "for node in root:\n",
    "    try:\n",
    "        s_assets=float(node.find('assets').text)\n",
    "    except:\n",
    "        s_assets=None\n",
    "        \n",
    "    try:\n",
    "        s_liabilities=float(node.find('liabilities').text)\n",
    "    except:\n",
    "        s_liabilities=None\n",
    "    \n",
    "    s_district=node.find('district').text\n",
    "    s_state=node.find('state').text\n",
    "    s_company_name=node.find('company_name').text\n",
    "    u_assets=node.find('assets').attrib['unit']\n",
    "    u_liabilities=node.find('liabilities').attrib['unit']\n",
    "    rows.append({'district':s_district,'state':s_state,'company_name':s_company_name,'assets':s_assets,'assets unit':u_assets,\n",
    "                 'liabilities':s_liabilities,'liabilities unit':u_liabilities})\n",
    "    \n",
    "out_df=pd.DataFrame(rows,columns=df_cols)\n",
    "out_df"
   ]
  },
  {
   "cell_type": "code",
   "execution_count": 56,
   "id": "97f5d4d5",
   "metadata": {},
   "outputs": [
    {
     "name": "stdout",
     "output_type": "stream",
     "text": [
      "<class 'pandas.core.frame.DataFrame'>\n",
      "RangeIndex: 62 entries, 0 to 61\n",
      "Data columns (total 7 columns):\n",
      " #   Column            Non-Null Count  Dtype  \n",
      "---  ------            --------------  -----  \n",
      " 0   district          62 non-null     object \n",
      " 1   state             62 non-null     object \n",
      " 2   company_name      62 non-null     object \n",
      " 3   assets            58 non-null     float64\n",
      " 4   assets unit       62 non-null     object \n",
      " 5   liabilities       61 non-null     float64\n",
      " 6   liabilities unit  62 non-null     object \n",
      "dtypes: float64(2), object(5)\n",
      "memory usage: 3.5+ KB\n"
     ]
    }
   ],
   "source": [
    "# 요약정보 출력\n",
    "out_df.info()"
   ]
  },
  {
   "cell_type": "code",
   "execution_count": 57,
   "id": "175c52e8",
   "metadata": {},
   "outputs": [
    {
     "name": "stdout",
     "output_type": "stream",
     "text": [
      "*** state ***\n",
      "DE     17\n",
      "NY     11\n",
      "NV      6\n",
      "CA      6\n",
      "TX      4\n",
      "FL      3\n",
      "MA      2\n",
      "NJ      2\n",
      "GA      2\n",
      "NC      1\n",
      "CA      1\n",
      "VA      1\n",
      "NE      1\n",
      "WA      1\n",
      "AZ      1\n",
      "KS      1\n",
      "DFL     1\n",
      "KY      1\n",
      "Name: state, dtype: int64\n",
      "\n",
      "\n",
      "*** district ***\n",
      "D     30\n",
      "SD    16\n",
      "ND     5\n",
      "ED     5\n",
      "CD     3\n",
      "MD     2\n",
      "WD     1\n",
      "Name: district, dtype: int64\n",
      "\n",
      "\n"
     ]
    }
   ],
   "source": [
    "# 범주형 데이터 개수 확인\n",
    "\n",
    "for col in ['state','district']:\n",
    "    print('*'*3,col,'*'*3)\n",
    "    print(out_df[col].value_counts(dropna=False))\n",
    "    print('\\n')"
   ]
  },
  {
   "cell_type": "code",
   "execution_count": 58,
   "id": "7824468e",
   "metadata": {},
   "outputs": [
    {
     "data": {
      "text/plain": [
       "district            0\n",
       "state               0\n",
       "company_name        0\n",
       "assets              4\n",
       "assets unit         0\n",
       "liabilities         1\n",
       "liabilities unit    0\n",
       "dtype: int64"
      ]
     },
     "execution_count": 58,
     "metadata": {},
     "output_type": "execute_result"
    }
   ],
   "source": [
    "# 각 열마다 누락데이터 개수\n",
    "out_df.isnull().sum(axis=0)"
   ]
  },
  {
   "cell_type": "code",
   "execution_count": 61,
   "id": "b2a33968",
   "metadata": {},
   "outputs": [
    {
     "data": {
      "text/plain": [
       "61"
      ]
     },
     "execution_count": 61,
     "metadata": {},
     "output_type": "execute_result"
    }
   ],
   "source": [
    "# 누락데이터 처리\n",
    "# asset 열은 누락데이터 개수 4개이므로 데이터 손실이 우려되 평균값으로 대체한다.\n",
    "# liabilities 열은 누락데이터 개수 1개이므로 삭제한다.(행 삭제)\n",
    "\n",
    "df_lia=out_df.dropna(subset=['liabilities'],how='any').copy()\n",
    "len(df_lia)\n",
    "\n"
   ]
  },
  {
   "cell_type": "code",
   "execution_count": 62,
   "id": "3fc317c6",
   "metadata": {},
   "outputs": [],
   "source": [
    "# asset 열 누락 데이터 처리\n",
    "mean_asset=df_lia['assets'].mean()\n",
    "df_lia['assets'].fillna(mean_asset,inplace=True)"
   ]
  },
  {
   "cell_type": "code",
   "execution_count": 63,
   "id": "6b5b224f",
   "metadata": {},
   "outputs": [
    {
     "data": {
      "text/plain": [
       "2.345        1\n",
       "39700.000    1\n",
       "1.142        1\n",
       "353.606      1\n",
       "270.000      1\n",
       "            ..\n",
       "749.000      1\n",
       "10.465       1\n",
       "2.069        1\n",
       "237.548      1\n",
       "6.925        1\n",
       "Name: liabilities, Length: 61, dtype: int64"
      ]
     },
     "execution_count": 63,
     "metadata": {},
     "output_type": "execute_result"
    }
   ],
   "source": [
    "# 누락데이터 처리가 잘됐는지 검토\n",
    "df_lia['liabilities'].value_counts(dropna=False)"
   ]
  },
  {
   "cell_type": "code",
   "execution_count": 64,
   "id": "2a2cd28d",
   "metadata": {},
   "outputs": [
    {
     "name": "stdout",
     "output_type": "stream",
     "text": [
      "<class 'pandas.core.frame.DataFrame'>\n",
      "Int64Index: 61 entries, 0 to 61\n",
      "Data columns (total 7 columns):\n",
      " #   Column            Non-Null Count  Dtype  \n",
      "---  ------            --------------  -----  \n",
      " 0   district          61 non-null     object \n",
      " 1   state             61 non-null     object \n",
      " 2   company_name      61 non-null     object \n",
      " 3   assets            61 non-null     float64\n",
      " 4   assets unit       61 non-null     object \n",
      " 5   liabilities       61 non-null     float64\n",
      " 6   liabilities unit  61 non-null     object \n",
      "dtypes: float64(2), object(5)\n",
      "memory usage: 3.8+ KB\n"
     ]
    }
   ],
   "source": [
    "df_lia.info()"
   ]
  },
  {
   "cell_type": "code",
   "execution_count": 65,
   "id": "444f4f32",
   "metadata": {},
   "outputs": [
    {
     "data": {
      "text/plain": [
       "1013.262172     3\n",
       "14.660000       1\n",
       "21.031000       1\n",
       "377.383000      1\n",
       "41.839000       1\n",
       "37.392000       1\n",
       "10.254000       1\n",
       "133.033000      1\n",
       "19.175000       1\n",
       "5.856000        1\n",
       "6.000000        1\n",
       "500.000000      1\n",
       "1.496000        1\n",
       "326.008000      1\n",
       "12.448000       1\n",
       "1275.431000     1\n",
       "310.773000      1\n",
       "1017.036000     1\n",
       "645.000000      1\n",
       "424.470000      1\n",
       "2.084000        1\n",
       "86.441000       1\n",
       "304.000000      1\n",
       "16.374000       1\n",
       "36.453000       1\n",
       "1536.176000     1\n",
       "1.771000        1\n",
       "1.064000        1\n",
       "2.080000        1\n",
       "41000.000000    1\n",
       "65.561000       1\n",
       "650.760000      1\n",
       "119.791000      1\n",
       "2531.032000     1\n",
       "321.263000      1\n",
       "92.025000       1\n",
       "19.836000       1\n",
       "524.722000      1\n",
       "9.800000        1\n",
       "504.897000      1\n",
       "859.000000      1\n",
       "685.694000      1\n",
       "404.586000      1\n",
       "10.000000       1\n",
       "418.000000      1\n",
       "273.000000      1\n",
       "9.757000        1\n",
       "388.000000      1\n",
       "527.433000      1\n",
       "115.624000      1\n",
       "13.600000       1\n",
       "436.191000      1\n",
       "873.252000      1\n",
       "20.716000       1\n",
       "394.500000      1\n",
       "30.563000       1\n",
       "1.747000        1\n",
       "295.426000      1\n",
       "6.702000        1\n",
       "Name: assets, dtype: int64"
      ]
     },
     "execution_count": 65,
     "metadata": {},
     "output_type": "execute_result"
    }
   ],
   "source": [
    "df_lia['assets'].value_counts(dropna=False)"
   ]
  },
  {
   "cell_type": "code",
   "execution_count": null,
   "id": "7166745d",
   "metadata": {},
   "outputs": [],
   "source": []
  }
 ],
 "metadata": {
  "kernelspec": {
   "display_name": "Python 3",
   "language": "python",
   "name": "python3"
  },
  "language_info": {
   "codemirror_mode": {
    "name": "ipython",
    "version": 3
   },
   "file_extension": ".py",
   "mimetype": "text/x-python",
   "name": "python",
   "nbconvert_exporter": "python",
   "pygments_lexer": "ipython3",
   "version": "3.8.8"
  }
 },
 "nbformat": 4,
 "nbformat_minor": 5
}
